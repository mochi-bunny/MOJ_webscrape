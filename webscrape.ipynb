{
 "cells": [
  {
   "cell_type": "code",
   "execution_count": 1,
   "id": "912eec0c",
   "metadata": {},
   "outputs": [],
   "source": [
    "import requests\n",
    "from bs4 import BeautifulSoup \n",
    "import re\n"
   ]
  },
  {
   "cell_type": "code",
   "execution_count": null,
   "id": "b597388d",
   "metadata": {
    "scrolled": false
   },
   "outputs": [],
   "source": [
    "# url = \"https://pp.moj.gov.kw/ar/Pages/default.aspx\"\n",
    "\n",
    "req= requests.get(url)\n",
    "soup = BeautifulSoup(req.content ,'html.parser')\n",
    "# print(soup.prettify())"
   ]
  },
  {
   "cell_type": "code",
   "execution_count": 9,
   "id": "0f07980e",
   "metadata": {},
   "outputs": [],
   "source": [
    "# import re \n",
    "# About Us\n",
    "# x= soup.find('div', class_ = \"site-sec site-about-us\")\n",
    "\n",
    "# pg_title = soup.find('div', class_ = \"site-sec-title\").text\n",
    "# pg_content = soup.find('div', class_ = \"site-about-us-text\").text\n",
    "# content  = pg_title+ \"\\n\\n\"+ pg_content\n",
    "\n",
    "\n",
    "def write_file(site, content):\n",
    "    c= site.split(\"https://pp.moj.gov.kw/ar/Pages/\")\n",
    "    file_name= c[-1].split(\".aspx\")[0]+\".txt\"\n",
    "    print(file_name)\n",
    "    with open(file_name,'w', encoding=\"utf-8\") as f:\n",
    "        f.write(\"source: \"+site)\n",
    "        f.write(\"\\n\\n\")\n",
    "        f.write(content ) \n",
    "        f.close()\n",
    "\n",
    "# write_file(url, content)"
   ]
  },
  {
   "cell_type": "code",
   "execution_count": 10,
   "id": "87895fa2",
   "metadata": {},
   "outputs": [],
   "source": [
    "main_url = \"https://pp.moj.gov.kw\"\n",
    "\n",
    "#extracted initial dropdown menu urls with.aspx\n",
    "#\n",
    "\n",
    "menu = soup.find_all('li', class_ = 'site-nav-item site-dropdown')\n",
    " \n",
    "def get_all_urls(menu):\n",
    "    urls= []\n",
    "    for x in menu:\n",
    "        menu_urls= x.find_all('a')\n",
    "\n",
    "        for u in menu_urls:\n",
    "\n",
    "            href= u.get('href')\n",
    "            if \".aspx\" in href :\n",
    "                if \"/Statistics.aspx\" in href or \"Pages/default.aspx\" in href: \n",
    "                    pass\n",
    "                else:\n",
    "                    print(u) \n",
    "                    urls.append(main_url+ href)\n",
    "                    print()\n",
    "    return urls\n",
    "# urls = get_all_urls(menu) "
   ]
  },
  {
   "cell_type": "code",
   "execution_count": 7,
   "id": "178b803b",
   "metadata": {
    "scrolled": true
   },
   "outputs": [],
   "source": [
    "def get_url_content(url, container_name):\n",
    "    req= requests.get(url)\n",
    "    info =  req.content\n",
    "    soupy= BeautifulSoup(info, 'html.parser')\n",
    "    \n",
    "    \n",
    "    site_container= soupy.find('div', class_ =container_name)\n",
    "    print(url)\n",
    "    print(len(site_container))\n",
    "#     print(site_container)\n",
    "   \n",
    "    filtered_text = [i for i in site_container.find_all(string=True) if i!=' ' ]\n",
    "\n",
    "    info = \"\\n\".join(filtered_text)\n",
    "    \n",
    "    print(filtered_text)\n",
    "    print()\n",
    "    write_file(url,info )\n",
    "#     return content\n",
    "\n",
    "# for u in urls:\n",
    "#     get_url_content(u,content, \"innerContent\")\n",
    "#     print(u)\n",
    "\n",
    "# get_url_content(urls[0],content, \"innerContent\")\n"
   ]
  },
  {
   "cell_type": "code",
   "execution_count": 28,
   "id": "d67e497d",
   "metadata": {
    "scrolled": false
   },
   "outputs": [],
   "source": [
    "from urllib.request import urlretrieve\n",
    "\n",
    "law_section_4= \"https://pp.moj.gov.kw/ar/Pages/Section4.aspx?sectionid=26\"\n",
    " \n",
    "\n",
    "def download_docs(url, element_id, type_ , folder):\n",
    "    req= requests.get(url)\n",
    "\n",
    "    info = req.content\n",
    "    soup = BeautifulSoup(info, 'html.parser')\n",
    "    if type_ == \"class\":\n",
    "        doc_urls= [ link.find('a').get('href') for link in soup.find_all('div', class_ = element_id)]\n",
    "    else:\n",
    "        doc_urls= [ link.find('a').get('href') for link in soup.find_all('div', id = element_id) ]    \n",
    "                   \n",
    "                   \n",
    "    print(doc_urls)\n",
    "    for doc in doc_urls:\n",
    "        print('downloading....'+ doc)\n",
    "        c = doc.split(\"/\")[-1].split(\".\")[0] \n",
    "        urlretrieve(doc,folder+\"/\"+c)\n",
    "\n",
    "# download_docs(law_section_4, 'item link-item', 'law_section_4')"
   ]
  },
  {
   "cell_type": "code",
   "execution_count": 33,
   "id": "74fa802a",
   "metadata": {},
   "outputs": [
    {
     "name": "stdout",
     "output_type": "stream",
     "text": [
      "a\n"
     ]
    }
   ],
   "source": [
    "# url=\"https://pp.moj.gov.kw/ar/Pages/Section5.aspx?sectionid=25\"\n",
    "# get_url_content(url, \"innerContent\")\n",
    "\n",
    "url =\"https://www.moj.gov.kw/AR/Pages/MojPrevProvisions.aspx\"\n",
    "# download_docs(url,\"contentBox\", \"MojPrevProvisions\" ) \n",
    "soup = BeautifulSoup( requests.get(url).content, 'html.parser')\n",
    "soup.find_all('div', id = 'contentBox')\n",
    "\n",
    "for link in soup.find_all('div', id = 'contentBox'):\n",
    "     "
   ]
  },
  {
   "cell_type": "code",
   "execution_count": null,
   "id": "6cd830dd",
   "metadata": {},
   "outputs": [],
   "source": []
  },
  {
   "cell_type": "code",
   "execution_count": 7,
   "id": "7d1ae9af",
   "metadata": {},
   "outputs": [
    {
     "data": {
      "text/plain": [
       "['https://www.pp.moj.gov.kw/ar/LawsPP/MedicalPracticesAct.pdf',\n",
       " 'https://www.pp.moj.gov.kw/ar/LawsPP/FoodandNutritionLaw.pdf',\n",
       " 'https://www.pp.moj.gov.kw/ar/LawsPP/HealthAdvertisingLaw.pdf',\n",
       " 'https://www.pp.moj.gov.kw/ar/LawsPP/communicablediseases.pdf',\n",
       " 'https://www.pp.moj.gov.kw/ar/LawsPP/PharmacyLawRegulation.pdf',\n",
       " 'https://www.pp.moj.gov.kw/ar/LawsPP/EnvironmentalProtectionLaw.pdf',\n",
       " 'https://www.pp.moj.gov.kw/ar/LawsPP/law3016.pdf']"
      ]
     },
     "execution_count": 7,
     "metadata": {},
     "output_type": "execute_result"
    }
   ],
   "source": [
    "doc_urls[-7:]"
   ]
  }
 ],
 "metadata": {
  "kernelspec": {
   "display_name": "Python 3 (ipykernel)",
   "language": "python",
   "name": "python3"
  },
  "language_info": {
   "codemirror_mode": {
    "name": "ipython",
    "version": 3
   },
   "file_extension": ".py",
   "mimetype": "text/x-python",
   "name": "python",
   "nbconvert_exporter": "python",
   "pygments_lexer": "ipython3",
   "version": "3.11.5"
  }
 },
 "nbformat": 4,
 "nbformat_minor": 5
}
